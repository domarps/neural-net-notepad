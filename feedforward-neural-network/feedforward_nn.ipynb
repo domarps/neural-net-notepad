{
 "cells": [
  {
   "cell_type": "code",
   "execution_count": 1,
   "metadata": {},
   "outputs": [],
   "source": [
    "import torch\n",
    "import torch.nn as nn\n",
    "import torchvision\n",
    "import torchvision.transforms as transforms"
   ]
  },
  {
   "cell_type": "code",
   "execution_count": 2,
   "metadata": {},
   "outputs": [],
   "source": [
    "# Device configuration\n",
    "device = torch.device('cuda' if torch.cuda.is_available() else 'cpu')\n",
    "\n",
    "# Hyper-parameters \n",
    "input_size = 784\n",
    "hidden_size = 500\n",
    "num_classes = 10\n",
    "num_epochs = 5\n",
    "batch_size = 100\n",
    "learning_rate = 0.001"
   ]
  },
  {
   "cell_type": "code",
   "execution_count": 3,
   "metadata": {},
   "outputs": [],
   "source": [
    "# MNIST dataset \n",
    "train_dataset = torchvision.datasets.MNIST(root='../../data', \n",
    "                                           train=True, \n",
    "                                           transform=transforms.ToTensor(),  \n",
    "                                           download=True)\n",
    "\n",
    "test_dataset = torchvision.datasets.MNIST(root='../../data', \n",
    "                                          train=False, \n",
    "                                          transform=transforms.ToTensor())\n"
   ]
  },
  {
   "cell_type": "code",
   "execution_count": 4,
   "metadata": {},
   "outputs": [],
   "source": [
    "# Data loader\n",
    "train_loader = torch.utils.data.DataLoader(dataset=train_dataset, \n",
    "                                           batch_size=batch_size, \n",
    "                                           shuffle=True)\n",
    "\n",
    "test_loader = torch.utils.data.DataLoader(dataset=test_dataset, \n",
    "                                          batch_size=batch_size, \n",
    "                                          shuffle=False)\n"
   ]
  },
  {
   "cell_type": "code",
   "execution_count": 7,
   "metadata": {},
   "outputs": [],
   "source": [
    "class NeuralNet(nn.Module):\n",
    "    def __init__(self, input_size, hidden_size, num_classes):\n",
    "        super(NeuralNet, self).__init__() # calls the init method of the parent class\n",
    "        self.fc1 = nn.Linear(in_features=input_size, out_features=hidden_size)\n",
    "        self.relu = nn.ReLU()\n",
    "        self.fc2 = nn.Linear(in_features=hidden_size, out_features=num_classes)\n",
    "        \n",
    "    def forward(self, x):\n",
    "        x = x.reshape(-1, 28*28)\n",
    "        w1 = self.fc1(x)\n",
    "        w1_relu = self.relu(w1)\n",
    "        out = self.fc2(w1_relu)\n",
    "        return out"
   ]
  },
  {
   "cell_type": "code",
   "execution_count": 8,
   "metadata": {},
   "outputs": [],
   "source": [
    "model = NeuralNet(input_size, hidden_size, num_classes)"
   ]
  },
  {
   "cell_type": "code",
   "execution_count": 29,
   "metadata": {},
   "outputs": [],
   "source": [
    "criterion = nn.CrossEntropyLoss()\n",
    "optimizer = torch.optim.Adam(model.parameters(), lr=learning_rate)"
   ]
  },
  {
   "cell_type": "code",
   "execution_count": 30,
   "metadata": {},
   "outputs": [
    {
     "name": "stdout",
     "output_type": "stream",
     "text": [
      "600\n"
     ]
    }
   ],
   "source": [
    "total_step = len(train_loader)\n",
    "print(total_step)"
   ]
  },
  {
   "cell_type": "code",
   "execution_count": 31,
   "metadata": {},
   "outputs": [
    {
     "name": "stdout",
     "output_type": "stream",
     "text": [
      "Epoch [1/5], Step [100/600], Loss: 0.3822\n",
      "Epoch [1/5], Step [200/600], Loss: 0.1514\n",
      "Epoch [1/5], Step [300/600], Loss: 0.3463\n",
      "Epoch [1/5], Step [400/600], Loss: 0.5178\n",
      "Epoch [1/5], Step [500/600], Loss: 0.5273\n",
      "Epoch [1/5], Step [600/600], Loss: 0.1590\n",
      "Epoch [2/5], Step [100/600], Loss: 0.3451\n",
      "Epoch [2/5], Step [200/600], Loss: 0.6112\n",
      "Epoch [2/5], Step [300/600], Loss: 0.9073\n",
      "Epoch [2/5], Step [400/600], Loss: 0.1736\n",
      "Epoch [2/5], Step [500/600], Loss: 0.5892\n",
      "Epoch [2/5], Step [600/600], Loss: 0.8209\n",
      "Epoch [3/5], Step [100/600], Loss: 0.1010\n",
      "Epoch [3/5], Step [200/600], Loss: 0.5753\n",
      "Epoch [3/5], Step [300/600], Loss: 0.2727\n",
      "Epoch [3/5], Step [400/600], Loss: 0.3438\n",
      "Epoch [3/5], Step [500/600], Loss: 0.3687\n",
      "Epoch [3/5], Step [600/600], Loss: 0.5944\n",
      "Epoch [4/5], Step [100/600], Loss: 0.4179\n",
      "Epoch [4/5], Step [200/600], Loss: 0.2793\n",
      "Epoch [4/5], Step [300/600], Loss: 0.4965\n",
      "Epoch [4/5], Step [400/600], Loss: 0.5676\n",
      "Epoch [4/5], Step [500/600], Loss: 0.4396\n",
      "Epoch [4/5], Step [600/600], Loss: 1.2088\n",
      "Epoch [5/5], Step [100/600], Loss: 0.2138\n",
      "Epoch [5/5], Step [200/600], Loss: 0.8664\n",
      "Epoch [5/5], Step [300/600], Loss: 0.7490\n",
      "Epoch [5/5], Step [400/600], Loss: 0.7094\n",
      "Epoch [5/5], Step [500/600], Loss: 0.2082\n",
      "Epoch [5/5], Step [600/600], Loss: 1.4604\n"
     ]
    }
   ],
   "source": [
    "for epoch in range(num_epochs):\n",
    "    for batch_id, (images, labels) in enumerate(train_loader):\n",
    "        # move tensors to device\n",
    "        images = images.reshape(-1, 28*28).to(device)\n",
    "        labels = labels.to(device)\n",
    "        \n",
    "        # forward pass\n",
    "        outputs = model(images)\n",
    "        loss = criterion(outputs, labels) #unhappiness with the outputs\n",
    "        \n",
    "        # backward pass\n",
    "        criterion.zero_grad()\n",
    "        loss.backward()\n",
    "        optimizer.step()\n",
    "\n",
    "        if (batch_id+1) % 100 == 0:\n",
    "                print ('Epoch [{}/{}], Step [{}/{}], Loss: {:.4f}' \n",
    "                       .format(epoch+1, num_epochs, batch_id+1, total_step, loss.item()))\n",
    "        "
   ]
  },
  {
   "cell_type": "code",
   "execution_count": 47,
   "metadata": {},
   "outputs": [
    {
     "name": "stdout",
     "output_type": "stream",
     "text": [
      "Accuracy of the network on the 10000 test images: 88.34\n"
     ]
    }
   ],
   "source": [
    "### Test\n",
    "correct = 0\n",
    "total = 0\n",
    "with torch.no_grad():\n",
    "    for batch_id, (images, labels) in enumerate(test_loader):\n",
    "        images = images.reshape(-1, 28*28).to(device)\n",
    "        labels = labels.to(device)\n",
    "        total += len(labels)\n",
    "        \n",
    "        # energies for the 10 classes\n",
    "        outputs = model(images)\n",
    "        \n",
    "        _, predicted = torch.max(outputs, 1)\n",
    "        \n",
    "        correct += (predicted == labels).sum().item()\n",
    "        \n",
    "    print(f'Accuracy of the network on the 10000 test images: {correct/total*100}')\n",
    "        \n",
    "    "
   ]
  },
  {
   "cell_type": "code",
   "execution_count": null,
   "metadata": {},
   "outputs": [],
   "source": []
  }
 ],
 "metadata": {
  "kernelspec": {
   "display_name": "Python 3",
   "language": "python",
   "name": "python3"
  },
  "language_info": {
   "codemirror_mode": {
    "name": "ipython",
    "version": 3
   },
   "file_extension": ".py",
   "mimetype": "text/x-python",
   "name": "python",
   "nbconvert_exporter": "python",
   "pygments_lexer": "ipython3",
   "version": "3.6.8"
  }
 },
 "nbformat": 4,
 "nbformat_minor": 2
}
