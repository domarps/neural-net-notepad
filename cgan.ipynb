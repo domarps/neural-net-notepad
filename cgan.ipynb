{
  "nbformat": 4,
  "nbformat_minor": 0,
  "metadata": {
    "colab": {
      "name": "cgan.ipynb",
      "version": "0.3.2",
      "provenance": [],
      "collapsed_sections": [],
      "include_colab_link": true
    },
    "kernelspec": {
      "name": "python3",
      "display_name": "Python 3"
    }
  },
  "cells": [
    {
      "cell_type": "markdown",
      "metadata": {
        "id": "view-in-github",
        "colab_type": "text"
      },
      "source": [
        "<a href=\"https://colab.research.google.com/github/domarps/neural-net-notepad/blob/master/cgan.ipynb\" target=\"_parent\"><img src=\"https://colab.research.google.com/assets/colab-badge.svg\" alt=\"Open In Colab\"/></a>"
      ]
    },
    {
      "metadata": {
        "id": "0oYHyOYLZeTD",
        "colab_type": "code",
        "colab": {}
      },
      "cell_type": "code",
      "source": [
        "import torch\n",
        "import torch.nn\n",
        "import torch.nn.functional as nn\n",
        "import torch.autograd as autograd\n",
        "import torch.optim as optim\n",
        "import numpy as np\n",
        "import matplotlib.pyplot as plt\n",
        "import matplotlib.gridspec as gridspec\n",
        "import os\n",
        "os.environ['TF_CPP_MIN_LOG_LEVEL'] = '3'\n",
        "from tensorflow.examples.tutorials.mnist import input_data\n"
      ],
      "execution_count": 0,
      "outputs": []
    },
    {
      "metadata": {
        "id": "UDTNOdSWZfZu",
        "colab_type": "code",
        "colab": {
          "base_uri": "https://localhost:8080/",
          "height": 85
        },
        "outputId": "e48d984a-c513-4a95-b2d6-da4e5b173dae"
      },
      "cell_type": "code",
      "source": [
        "mnist = input_data.read_data_sets('../../MNIST_data', one_hot=True)"
      ],
      "execution_count": 57,
      "outputs": [
        {
          "output_type": "stream",
          "text": [
            "Extracting ../../MNIST_data/train-images-idx3-ubyte.gz\n",
            "Extracting ../../MNIST_data/train-labels-idx1-ubyte.gz\n",
            "Extracting ../../MNIST_data/t10k-images-idx3-ubyte.gz\n",
            "Extracting ../../MNIST_data/t10k-labels-idx1-ubyte.gz\n"
          ],
          "name": "stdout"
        }
      ]
    },
    {
      "metadata": {
        "id": "o0RIVsEzZoYX",
        "colab_type": "code",
        "colab": {
          "base_uri": "https://localhost:8080/",
          "height": 34
        },
        "outputId": "28766945-8084-4c2a-8cdf-5e2c3cecf348"
      },
      "cell_type": "code",
      "source": [
        "X_dim, y_dim = mnist.train.images.shape[1], mnist.train.labels.shape[1] # X (image dimension), y (label dimension)\n",
        "print(X_dim, y_dim)"
      ],
      "execution_count": 58,
      "outputs": [
        {
          "output_type": "stream",
          "text": [
            "784 10\n"
          ],
          "name": "stdout"
        }
      ]
    },
    {
      "metadata": {
        "id": "KPSS_0qSZ6sR",
        "colab_type": "code",
        "colab": {}
      },
      "cell_type": "code",
      "source": [
        "Z_dim = 100\n",
        "h_dim = 128\n",
        "cnt = 0\n",
        "lr = 1e-3\n",
        "mini_batch = 64"
      ],
      "execution_count": 0,
      "outputs": []
    },
    {
      "metadata": {
        "id": "SiTHhgkpapTp",
        "colab_type": "code",
        "colab": {}
      },
      "cell_type": "code",
      "source": [
        "def xavier_init(size):\n",
        "    in_dim = size[0]\n",
        "    xavier_stddev = 1. / np.sqrt(in_dim / 2.)\n",
        "    return Variable(torch.randn(*size) * xavier_stddev, requires_grad=True)"
      ],
      "execution_count": 0,
      "outputs": []
    },
    {
      "metadata": {
        "id": "RPp6L_WxbybD",
        "colab_type": "code",
        "colab": {}
      },
      "cell_type": "code",
      "source": [
        "\"\"\" ==================== GENERATOR ======================== \"\"\"\n",
        "\n",
        "Whx = xavier_init(size=[h_dim, X_dim])\n",
        "bhx = torch.zeros(X_dim, requires_grad=True)\n",
        "\n",
        "Wzh = xavier_init(size=[Z_dim + y_dim, h_dim])\n",
        "bzh = Variable(torch.zeros(h_dim), requires_grad=True)\n",
        "                  \n",
        "\n",
        "def G(z, c):\n",
        "    inputs = torch.cat([z, c], 1)\n",
        "    h = nn.relu(inputs @ Wzh + bzh.repeat(inputs.size(0), 1))\n",
        "    X = nn.sigmoid(h @ Whx + bhx.repeat(h.size(0), 1))\n",
        "    return X\n",
        "\n",
        "\n",
        "  \n",
        "\"\"\" ==================== DISCRIMINATOR ======================== \"\"\"\n",
        "\n",
        "Wxh = xavier_init(size=[X_dim + y_dim, h_dim])\n",
        "bxh = Variable(torch.zeros(h_dim), requires_grad=True)\n",
        "\n",
        "Why = xavier_init(size=[h_dim, 1])\n",
        "bhy = Variable(torch.zeros(1), requires_grad=True)\n",
        "\n",
        "def D(X, c):\n",
        "  inputs = torch.cat([X, c], 1)\n",
        "  h = nn.relu(inputs @ Wxh + bxh.repeat(inputs.size(0), 1))\n",
        "  y = nn.sigmoid(h @ Why + bhy.repeat(h.size(0), 1))\n",
        "  return y"
      ],
      "execution_count": 0,
      "outputs": []
    },
    {
      "metadata": {
        "id": "BN4nnDQxbzlz",
        "colab_type": "code",
        "colab": {}
      },
      "cell_type": "code",
      "source": [
        "G_params = [Wzh, bzh, Whx, bhx]\n",
        "D_params = [Wxh, bxh, Why, bhy]\n",
        "params = G_params + D_params"
      ],
      "execution_count": 0,
      "outputs": []
    },
    {
      "metadata": {
        "id": "nqtJR3B_c1db",
        "colab_type": "code",
        "colab": {}
      },
      "cell_type": "code",
      "source": [
        "\"\"\" ===================== TRAINING ======================== \"\"\"\n",
        "\n",
        "\n",
        "def reset_grad():\n",
        "    for p in params:\n",
        "        if p.grad is not None:\n",
        "            data = p.grad.data\n",
        "            p.grad = Variable(data.new().resize_as_(data).zero_())\n",
        "\n",
        "\n",
        "G_solver = optim.Adam(G_params, lr=1e-3)\n",
        "D_solver = optim.Adam(D_params, lr=1e-3)\n",
        "\n",
        "ones_label = Variable(torch.ones(mini_batch, 1))\n",
        "zeros_label = Variable(torch.zeros(mini_batch, 1))"
      ],
      "execution_count": 0,
      "outputs": []
    },
    {
      "metadata": {
        "id": "Wsx_cFLzeN9m",
        "colab_type": "code",
        "colab": {
          "base_uri": "https://localhost:8080/",
          "height": 1751
        },
        "outputId": "145b0221-aaa6-4181-bfcb-4066eb83298d"
      },
      "cell_type": "code",
      "source": [
        "for it in range(100000):\n",
        "    # Sample data\n",
        "    z = Variable(torch.randn(mini_batch, Z_dim))\n",
        "    X, c = mnist.train.next_batch(mini_batch)\n",
        "    X = Variable(torch.from_numpy(X))\n",
        "    c = Variable(torch.from_numpy(c.astype('float32')))\n",
        "\n",
        "    # Dicriminator forward-loss-backward-update\n",
        "    G_sample = G(z, c)\n",
        "    D_real = D(X, c)\n",
        "    D_fake = D(G_sample, c)\n",
        "\n",
        "    D_loss_real = nn.binary_cross_entropy(D_real, ones_label)\n",
        "    D_loss_fake = nn.binary_cross_entropy(D_fake, zeros_label)\n",
        "    D_loss = D_loss_real + D_loss_fake\n",
        "\n",
        "    D_loss.backward()\n",
        "    D_solver.step()\n",
        "\n",
        "    # Housekeeping - reset gradient\n",
        "    reset_grad()\n",
        "\n",
        "    # Generator forward-loss-backward-update\n",
        "    z = Variable(torch.randn(mini_batch, Z_dim))\n",
        "    G_sample = G(z, c)\n",
        "    D_fake = D(G_sample, c)\n",
        "\n",
        "    G_loss = nn.binary_cross_entropy(D_fake, ones_label)\n",
        "\n",
        "    G_loss.backward()\n",
        "    G_solver.step()\n",
        "\n",
        "    # Housekeeping - reset gradient\n",
        "    reset_grad()\n",
        "\n",
        "    # Print and plot every now and then\n",
        "    if it % 1000 == 0:\n",
        "        print('Iter-{}; D_loss: {}; G_loss: {}'.format(it, D_loss.data.numpy(), G_loss.data.numpy()))\n",
        "\n",
        "        c = np.zeros(shape=[mini_batch, y_dim], dtype='float32')\n",
        "        c[:, np.random.randint(0, 10)] = 1.\n",
        "        c = Variable(torch.from_numpy(c))\n",
        "        samples = G(z, c).data.numpy()[:16]\n",
        "\n",
        "        fig = plt.figure(figsize=(4, 4))\n",
        "        gs = gridspec.GridSpec(4, 4)\n",
        "        gs.update(wspace=0.05, hspace=0.05)\n",
        "\n",
        "        for i, sample in enumerate(samples):\n",
        "            ax = plt.subplot(gs[i])\n",
        "            plt.axis('off')\n",
        "            ax.set_xticklabels([])\n",
        "            ax.set_yticklabels([])\n",
        "            ax.set_aspect('equal')\n",
        "            plt.imshow(sample.reshape(28, 28), cmap='Greys_r')\n",
        "\n",
        "        if not os.path.exists('out/'):\n",
        "            os.makedirs('out/')\n",
        "\n",
        "        plt.savefig('out/{}.png'.format(str(cnt).zfill(3)), bbox_inches='tight')\n",
        "        cnt += 1\n",
        "        plt.close(fig)"
      ],
      "execution_count": 64,
      "outputs": [
        {
          "output_type": "stream",
          "text": [
            "/usr/local/lib/python3.6/dist-packages/torch/nn/functional.py:1332: UserWarning: nn.functional.sigmoid is deprecated. Use torch.sigmoid instead.\n",
            "  warnings.warn(\"nn.functional.sigmoid is deprecated. Use torch.sigmoid instead.\")\n"
          ],
          "name": "stderr"
        },
        {
          "output_type": "stream",
          "text": [
            "Iter-0; D_loss: 1.1377404928207397; G_loss: 2.808150053024292\n",
            "Iter-1000; D_loss: 0.009211495518684387; G_loss: 6.816244602203369\n",
            "Iter-2000; D_loss: 0.023438237607479095; G_loss: 5.90328311920166\n",
            "Iter-3000; D_loss: 0.05616011098027229; G_loss: 5.634189128875732\n",
            "Iter-4000; D_loss: 0.21671143174171448; G_loss: 4.747138023376465\n",
            "Iter-5000; D_loss: 0.4136508107185364; G_loss: 3.7933852672576904\n",
            "Iter-6000; D_loss: 0.2702176570892334; G_loss: 4.403937816619873\n",
            "Iter-7000; D_loss: 0.5207614898681641; G_loss: 3.522796392440796\n",
            "Iter-8000; D_loss: 0.570395827293396; G_loss: 2.303628444671631\n",
            "Iter-9000; D_loss: 0.490307480096817; G_loss: 3.1399171352386475\n",
            "Iter-10000; D_loss: 0.7737541198730469; G_loss: 2.6028387546539307\n",
            "Iter-11000; D_loss: 0.5697714686393738; G_loss: 2.5529043674468994\n",
            "Iter-12000; D_loss: 0.8379417657852173; G_loss: 2.70797061920166\n",
            "Iter-13000; D_loss: 0.6329725980758667; G_loss: 2.4610581398010254\n",
            "Iter-14000; D_loss: 0.7652851343154907; G_loss: 2.2341251373291016\n",
            "Iter-15000; D_loss: 0.8528531193733215; G_loss: 1.89027738571167\n",
            "Iter-16000; D_loss: 0.8464183807373047; G_loss: 2.641057014465332\n",
            "Iter-17000; D_loss: 0.8429652452468872; G_loss: 2.213732957839966\n",
            "Iter-18000; D_loss: 0.9055522680282593; G_loss: 1.7973185777664185\n",
            "Iter-19000; D_loss: 0.5910488963127136; G_loss: 1.3699167966842651\n",
            "Iter-20000; D_loss: 0.8603606224060059; G_loss: 1.714005708694458\n",
            "Iter-21000; D_loss: 0.8148956298828125; G_loss: 1.7658241987228394\n",
            "Iter-22000; D_loss: 0.8710143566131592; G_loss: 1.845663070678711\n",
            "Iter-23000; D_loss: 0.9879940748214722; G_loss: 1.6870869398117065\n",
            "Iter-24000; D_loss: 0.88615882396698; G_loss: 1.8563402891159058\n",
            "Iter-25000; D_loss: 0.849291980266571; G_loss: 1.651975393295288\n",
            "Iter-26000; D_loss: 0.826317548751831; G_loss: 1.7516093254089355\n",
            "Iter-27000; D_loss: 0.8242357969284058; G_loss: 1.6332367658615112\n",
            "Iter-28000; D_loss: 0.9595656394958496; G_loss: 1.3191876411437988\n",
            "Iter-29000; D_loss: 0.7499215006828308; G_loss: 1.8680421113967896\n",
            "Iter-30000; D_loss: 0.7935935258865356; G_loss: 1.6794722080230713\n",
            "Iter-31000; D_loss: 0.7032983303070068; G_loss: 1.6760832071304321\n",
            "Iter-32000; D_loss: 0.7299739122390747; G_loss: 2.2445576190948486\n",
            "Iter-33000; D_loss: 0.7081361413002014; G_loss: 1.7244430780410767\n",
            "Iter-34000; D_loss: 0.7972502708435059; G_loss: 1.650193691253662\n",
            "Iter-35000; D_loss: 0.79083251953125; G_loss: 1.2676453590393066\n",
            "Iter-36000; D_loss: 0.9652981758117676; G_loss: 1.7168887853622437\n",
            "Iter-37000; D_loss: 0.8098657727241516; G_loss: 1.793404459953308\n",
            "Iter-38000; D_loss: 0.8033406734466553; G_loss: 1.7904306650161743\n",
            "Iter-39000; D_loss: 1.0352455377578735; G_loss: 1.3715165853500366\n",
            "Iter-40000; D_loss: 0.862080454826355; G_loss: 1.8455572128295898\n",
            "Iter-41000; D_loss: 0.7642109394073486; G_loss: 1.260839819908142\n",
            "Iter-42000; D_loss: 0.8157927989959717; G_loss: 1.9679621458053589\n",
            "Iter-43000; D_loss: 0.720023512840271; G_loss: 1.7332189083099365\n",
            "Iter-44000; D_loss: 0.6870982646942139; G_loss: 1.722883701324463\n",
            "Iter-45000; D_loss: 0.858911395072937; G_loss: 1.6926820278167725\n",
            "Iter-46000; D_loss: 1.0163140296936035; G_loss: 1.5134243965148926\n",
            "Iter-47000; D_loss: 0.7773712873458862; G_loss: 1.6633918285369873\n",
            "Iter-48000; D_loss: 0.8296642303466797; G_loss: 2.13372540473938\n",
            "Iter-49000; D_loss: 0.6601590514183044; G_loss: 2.231909990310669\n",
            "Iter-50000; D_loss: 0.9504697918891907; G_loss: 1.8058202266693115\n",
            "Iter-51000; D_loss: 0.9481695294380188; G_loss: 1.729415774345398\n",
            "Iter-52000; D_loss: 0.7014627456665039; G_loss: 1.6501235961914062\n",
            "Iter-53000; D_loss: 0.7588320970535278; G_loss: 1.7312685251235962\n",
            "Iter-54000; D_loss: 0.8170359134674072; G_loss: 1.5278733968734741\n",
            "Iter-55000; D_loss: 0.8177312612533569; G_loss: 2.0612852573394775\n",
            "Iter-56000; D_loss: 0.6925090551376343; G_loss: 2.048374891281128\n",
            "Iter-57000; D_loss: 0.807464599609375; G_loss: 1.8291800022125244\n",
            "Iter-58000; D_loss: 0.9320464730262756; G_loss: 1.7642220258712769\n",
            "Iter-59000; D_loss: 0.8992316722869873; G_loss: 1.9219412803649902\n",
            "Iter-60000; D_loss: 0.7656077146530151; G_loss: 1.8485448360443115\n",
            "Iter-61000; D_loss: 0.8727492094039917; G_loss: 1.6485044956207275\n",
            "Iter-62000; D_loss: 0.9103963375091553; G_loss: 2.0461573600769043\n",
            "Iter-63000; D_loss: 0.7381702661514282; G_loss: 1.9534130096435547\n",
            "Iter-64000; D_loss: 0.8619426488876343; G_loss: 1.6704827547073364\n",
            "Iter-65000; D_loss: 0.7682379484176636; G_loss: 1.588974952697754\n",
            "Iter-66000; D_loss: 0.5926092863082886; G_loss: 2.0118870735168457\n",
            "Iter-67000; D_loss: 0.7735040187835693; G_loss: 2.010877847671509\n",
            "Iter-68000; D_loss: 0.8148809671401978; G_loss: 1.9394725561141968\n",
            "Iter-69000; D_loss: 0.9661177396774292; G_loss: 2.000317096710205\n",
            "Iter-70000; D_loss: 0.8232163190841675; G_loss: 1.5159155130386353\n",
            "Iter-71000; D_loss: 0.7530949115753174; G_loss: 2.070462942123413\n",
            "Iter-72000; D_loss: 0.8763695955276489; G_loss: 1.8429111242294312\n",
            "Iter-73000; D_loss: 0.8597043752670288; G_loss: 2.170614719390869\n",
            "Iter-74000; D_loss: 0.8642258048057556; G_loss: 2.012922763824463\n",
            "Iter-75000; D_loss: 0.7236357927322388; G_loss: 1.8618875741958618\n",
            "Iter-76000; D_loss: 0.8212264776229858; G_loss: 1.4849852323532104\n",
            "Iter-77000; D_loss: 0.7939374446868896; G_loss: 2.0111942291259766\n",
            "Iter-78000; D_loss: 0.8215339779853821; G_loss: 1.7965677976608276\n",
            "Iter-79000; D_loss: 0.8109962344169617; G_loss: 1.8501437902450562\n",
            "Iter-80000; D_loss: 0.8768528699874878; G_loss: 1.6735860109329224\n",
            "Iter-81000; D_loss: 0.8656659126281738; G_loss: 1.7276259660720825\n",
            "Iter-82000; D_loss: 0.7076706886291504; G_loss: 1.6674304008483887\n",
            "Iter-83000; D_loss: 0.8182429671287537; G_loss: 1.870273470878601\n",
            "Iter-84000; D_loss: 0.8263740539550781; G_loss: 1.4984958171844482\n",
            "Iter-85000; D_loss: 0.993208110332489; G_loss: 1.6220577955245972\n",
            "Iter-86000; D_loss: 0.8412123918533325; G_loss: 1.961462140083313\n",
            "Iter-87000; D_loss: 0.7205519676208496; G_loss: 2.007516384124756\n",
            "Iter-88000; D_loss: 0.7458031177520752; G_loss: 1.7783665657043457\n",
            "Iter-89000; D_loss: 0.8902443647384644; G_loss: 1.9480805397033691\n",
            "Iter-90000; D_loss: 0.6642236709594727; G_loss: 1.772005319595337\n",
            "Iter-91000; D_loss: 0.8308011293411255; G_loss: 1.658499002456665\n",
            "Iter-92000; D_loss: 0.6374043822288513; G_loss: 1.7123721837997437\n",
            "Iter-93000; D_loss: 0.6312463283538818; G_loss: 1.7728271484375\n",
            "Iter-94000; D_loss: 0.8470859527587891; G_loss: 1.8188952207565308\n",
            "Iter-95000; D_loss: 0.8618350625038147; G_loss: 1.9107704162597656\n",
            "Iter-96000; D_loss: 0.9203815460205078; G_loss: 1.6416071653366089\n",
            "Iter-97000; D_loss: 0.8708263039588928; G_loss: 2.20072603225708\n",
            "Iter-98000; D_loss: 0.7085962295532227; G_loss: 1.9045175313949585\n",
            "Iter-99000; D_loss: 0.72376549243927; G_loss: 1.857240915298462\n"
          ],
          "name": "stdout"
        }
      ]
    },
    {
      "metadata": {
        "id": "K2GP5w0Ue151",
        "colab_type": "code",
        "colab": {
          "base_uri": "https://localhost:8080/",
          "height": 248
        },
        "outputId": "b9fd081e-1def-4c11-a06c-88dbb89631a7"
      },
      "cell_type": "code",
      "source": [
        "from IPython.display import Image\n",
        "Image('out/126.png')"
      ],
      "execution_count": 65,
      "outputs": [
        {
          "output_type": "execute_result",
          "data": {
            "image/png": "[encoded data removed]",
            "text/plain": [
              "<IPython.core.display.Image object>"
            ]
          },
          "metadata": {
            "tags": []
          },
          "execution_count": 65
        }
      ]
    },
    {
      "metadata": {
        "id": "CJn3078wiGaf",
        "colab_type": "code",
        "colab": {
          "base_uri": "https://localhost:8080/",
          "height": 272
        },
        "outputId": "0aee28c7-c439-409a-8367-ea903b39e5c2"
      },
      "cell_type": "code",
      "source": [
        "! ls out/"
      ],
      "execution_count": 66,
      "outputs": [
        {
          "output_type": "stream",
          "text": [
            "000.png  015.png  030.png  045.png  060.png  075.png  090.png  105.png\t120.png\n",
            "001.png  016.png  031.png  046.png  061.png  076.png  091.png  106.png\t121.png\n",
            "002.png  017.png  032.png  047.png  062.png  077.png  092.png  107.png\t122.png\n",
            "003.png  018.png  033.png  048.png  063.png  078.png  093.png  108.png\t123.png\n",
            "004.png  019.png  034.png  049.png  064.png  079.png  094.png  109.png\t124.png\n",
            "005.png  020.png  035.png  050.png  065.png  080.png  095.png  110.png\t125.png\n",
            "006.png  021.png  036.png  051.png  066.png  081.png  096.png  111.png\t126.png\n",
            "007.png  022.png  037.png  052.png  067.png  082.png  097.png  112.png\n",
            "008.png  023.png  038.png  053.png  068.png  083.png  098.png  113.png\n",
            "009.png  024.png  039.png  054.png  069.png  084.png  099.png  114.png\n",
            "010.png  025.png  040.png  055.png  070.png  085.png  100.png  115.png\n",
            "011.png  026.png  041.png  056.png  071.png  086.png  101.png  116.png\n",
            "012.png  027.png  042.png  057.png  072.png  087.png  102.png  117.png\n",
            "013.png  028.png  043.png  058.png  073.png  088.png  103.png  118.png\n",
            "014.png  029.png  044.png  059.png  074.png  089.png  104.png  119.png\n"
          ],
          "name": "stdout"
        }
      ]
    },
    {
      "metadata": {
        "id": "KODJWSwMi4oN",
        "colab_type": "code",
        "colab": {}
      },
      "cell_type": "code",
      "source": [
        ""
      ],
      "execution_count": 0,
      "outputs": []
    }
  ]
}