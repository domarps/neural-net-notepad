{
  "nbformat": 4,
  "nbformat_minor": 0,
  "metadata": {
    "colab": {
      "name": "callbacks.ipynb",
      "version": "0.3.2",
      "provenance": [],
      "include_colab_link": true
    },
    "kernelspec": {
      "name": "python3",
      "display_name": "Python 3"
    }
  },
  "cells": [
    {
      "cell_type": "markdown",
      "metadata": {
        "id": "view-in-github",
        "colab_type": "text"
      },
      "source": [
        "<a href=\"https://colab.research.google.com/github/domarps/neural-net-notepad/blob/master/callbacks.ipynb\" target=\"_parent\"><img src=\"https://colab.research.google.com/assets/colab-badge.svg\" alt=\"Open In Colab\"/></a>"
      ]
    },
    {
      "cell_type": "markdown",
      "metadata": {
        "id": "8yjnok8TiqxC",
        "colab_type": "text"
      },
      "source": [
        "#### Pytorch Training Loop"
      ]
    },
    {
      "cell_type": "code",
      "metadata": {
        "id": "4yaP2G-kiML5",
        "colab_type": "code",
        "colab": {}
      },
      "source": [
        "def train(train_data_loader, model, epochs, optim, loss_func):\n",
        "  for _ in range(epochs):\n",
        "    model.train()\n",
        "    for x_batch, y_batch in train_data_loader:\n",
        "      out = model(x_batch)\n",
        "      loss = loss_func(out, y_batch)\n",
        "      loss.backward()\n",
        "      opt.step()\n",
        "      opt.zero_grad()"
      ],
      "execution_count": 0,
      "outputs": []
    },
    {
      "cell_type": "markdown",
      "metadata": {
        "id": "ozKjz2TNi0PM",
        "colab_type": "text"
      },
      "source": [
        "**Tricks**\n",
        "\n",
        "*   Keeping track of losses and metrics\n",
        "*   Hyper-parameter schedules\n",
        "*   Regularization Techniques\n",
        "     * Mixup\n",
        "     * L2 \n",
        "     * Decoupled Weight Decay Regularization\n",
        "\n"
      ]
    },
    {
      "cell_type": "markdown",
      "metadata": {
        "id": "N_ILYP64jbVK",
        "colab_type": "text"
      },
      "source": [
        "**Mixed Precision Training**\n",
        "\n",
        "1. FP16 Weights -Forward Pass-> FP32 Loss\n",
        "2. FP32 Loss   - Loss Scaling -> Scaled FP32 Loss\n",
        "3.  Scaled FP32 Loss - Backprop-> Scaled FP32 Gradients\n",
        "4. Scaled FP32 Gradients - Copy-> Scaled FP32 Gradients\n",
        "5. Scaled FP32 Gradients - Remove Scale -> FP32 Gradients\n",
        "6. FP32 Gradients - Apply-> FP32 Master Weights\n",
        "\n",
        "\n"
      ]
    },
    {
      "cell_type": "markdown",
      "metadata": {
        "id": "zFAvd1TukifY",
        "colab_type": "text"
      },
      "source": [
        "**Callback Handler** for picking the states of the training loop and feeding to each callback."
      ]
    },
    {
      "cell_type": "code",
      "metadata": {
        "id": "tY53t2aGivk3",
        "colab_type": "code",
        "colab": {
          "base_uri": "https://localhost:8080/",
          "height": 54
        },
        "outputId": "24d986b6-0f83-482c-d601-3f3dd46c26f8"
      },
      "source": [
        "'''\n",
        "@dataclass\n",
        "class DataBunch():\n",
        "  train_dl:DataLoader\n",
        "  valid_dl:DataLoader\n",
        "\n",
        "@dataclass\n",
        "class BasicLearner():\n",
        "  model:nn.Module\n",
        "  loss_func:LossFunction\n",
        "  optim:optim.Optimizer\n",
        "  data:DataBunc   \n",
        "'''"
      ],
      "execution_count": 4,
      "outputs": [
        {
          "output_type": "execute_result",
          "data": {
            "text/plain": [
              "'\\n@dataclass\\nclass DataBunch():\\n  train_dl:DataLoader\\n  valid_dl:DataLoader\\n\\n@dataclass\\nclass BasicLearner():\\n  model:nn.Module\\n  loss_func:LossFunction\\n  optim:optim.Optimizer\\n  data:DataBunc   \\n'"
            ]
          },
          "metadata": {
            "tags": []
          },
          "execution_count": 4
        }
      ]
    },
    {
      "cell_type": "code",
      "metadata": {
        "id": "82NLm77DlWYk",
        "colab_type": "code",
        "colab": {}
      },
      "source": [
        ""
      ],
      "execution_count": 0,
      "outputs": []
    }
  ]
}